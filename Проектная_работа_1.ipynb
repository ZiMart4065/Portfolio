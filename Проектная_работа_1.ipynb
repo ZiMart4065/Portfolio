{
 "cells": [
  {
   "cell_type": "markdown",
   "metadata": {
    "deletable": false,
    "editable": false,
    "id": "386f2ae7"
   },
   "source": [
    "# Исследование надежности заемщиков\n"
   ]
  },
  {
   "cell_type": "markdown",
   "metadata": {
    "deletable": false,
    "id": "26613308"
   },
   "source": [
    "## Изучим общую информацию о данных"
   ]
  },
  {
   "cell_type": "code",
   "execution_count": 28,
   "metadata": {
    "deletable": false,
    "id": "77a68a90"
   },
   "outputs": [],
   "source": [
    "import pandas as pd\n",
    "\n",
    "try:\n",
    "    data = pd.read_csv('/datasets/data.csv')\n",
    "except:\n",
    "    data = pd.read_csv('https://code.s3.yandex.net/datasets/data.csv')"
   ]
  },
  {
   "cell_type": "code",
   "execution_count": 29,
   "metadata": {
    "deletable": false,
    "id": "b0451a9a",
    "outputId": "1a8f3ef2-d323-4ec2-ddf7-89670b5944c4"
   },
   "outputs": [
    {
     "data": {
      "text/html": [
       "<div>\n",
       "<style scoped>\n",
       "    .dataframe tbody tr th:only-of-type {\n",
       "        vertical-align: middle;\n",
       "    }\n",
       "\n",
       "    .dataframe tbody tr th {\n",
       "        vertical-align: top;\n",
       "    }\n",
       "\n",
       "    .dataframe thead th {\n",
       "        text-align: right;\n",
       "    }\n",
       "</style>\n",
       "<table border=\"1\" class=\"dataframe\">\n",
       "  <thead>\n",
       "    <tr style=\"text-align: right;\">\n",
       "      <th></th>\n",
       "      <th>children</th>\n",
       "      <th>days_employed</th>\n",
       "      <th>dob_years</th>\n",
       "      <th>education</th>\n",
       "      <th>education_id</th>\n",
       "      <th>family_status</th>\n",
       "      <th>family_status_id</th>\n",
       "      <th>gender</th>\n",
       "      <th>income_type</th>\n",
       "      <th>debt</th>\n",
       "      <th>total_income</th>\n",
       "      <th>purpose</th>\n",
       "    </tr>\n",
       "  </thead>\n",
       "  <tbody>\n",
       "    <tr>\n",
       "      <td>0</td>\n",
       "      <td>1</td>\n",
       "      <td>-8437.673028</td>\n",
       "      <td>42</td>\n",
       "      <td>высшее</td>\n",
       "      <td>0</td>\n",
       "      <td>женат / замужем</td>\n",
       "      <td>0</td>\n",
       "      <td>F</td>\n",
       "      <td>сотрудник</td>\n",
       "      <td>0</td>\n",
       "      <td>253875.639453</td>\n",
       "      <td>покупка жилья</td>\n",
       "    </tr>\n",
       "    <tr>\n",
       "      <td>1</td>\n",
       "      <td>1</td>\n",
       "      <td>-4024.803754</td>\n",
       "      <td>36</td>\n",
       "      <td>среднее</td>\n",
       "      <td>1</td>\n",
       "      <td>женат / замужем</td>\n",
       "      <td>0</td>\n",
       "      <td>F</td>\n",
       "      <td>сотрудник</td>\n",
       "      <td>0</td>\n",
       "      <td>112080.014102</td>\n",
       "      <td>приобретение автомобиля</td>\n",
       "    </tr>\n",
       "    <tr>\n",
       "      <td>2</td>\n",
       "      <td>0</td>\n",
       "      <td>-5623.422610</td>\n",
       "      <td>33</td>\n",
       "      <td>Среднее</td>\n",
       "      <td>1</td>\n",
       "      <td>женат / замужем</td>\n",
       "      <td>0</td>\n",
       "      <td>M</td>\n",
       "      <td>сотрудник</td>\n",
       "      <td>0</td>\n",
       "      <td>145885.952297</td>\n",
       "      <td>покупка жилья</td>\n",
       "    </tr>\n",
       "    <tr>\n",
       "      <td>3</td>\n",
       "      <td>3</td>\n",
       "      <td>-4124.747207</td>\n",
       "      <td>32</td>\n",
       "      <td>среднее</td>\n",
       "      <td>1</td>\n",
       "      <td>женат / замужем</td>\n",
       "      <td>0</td>\n",
       "      <td>M</td>\n",
       "      <td>сотрудник</td>\n",
       "      <td>0</td>\n",
       "      <td>267628.550329</td>\n",
       "      <td>дополнительное образование</td>\n",
       "    </tr>\n",
       "    <tr>\n",
       "      <td>4</td>\n",
       "      <td>0</td>\n",
       "      <td>340266.072047</td>\n",
       "      <td>53</td>\n",
       "      <td>среднее</td>\n",
       "      <td>1</td>\n",
       "      <td>гражданский брак</td>\n",
       "      <td>1</td>\n",
       "      <td>F</td>\n",
       "      <td>пенсионер</td>\n",
       "      <td>0</td>\n",
       "      <td>158616.077870</td>\n",
       "      <td>сыграть свадьбу</td>\n",
       "    </tr>\n",
       "    <tr>\n",
       "      <td>5</td>\n",
       "      <td>0</td>\n",
       "      <td>-926.185831</td>\n",
       "      <td>27</td>\n",
       "      <td>высшее</td>\n",
       "      <td>0</td>\n",
       "      <td>гражданский брак</td>\n",
       "      <td>1</td>\n",
       "      <td>M</td>\n",
       "      <td>компаньон</td>\n",
       "      <td>0</td>\n",
       "      <td>255763.565419</td>\n",
       "      <td>покупка жилья</td>\n",
       "    </tr>\n",
       "    <tr>\n",
       "      <td>6</td>\n",
       "      <td>0</td>\n",
       "      <td>-2879.202052</td>\n",
       "      <td>43</td>\n",
       "      <td>высшее</td>\n",
       "      <td>0</td>\n",
       "      <td>женат / замужем</td>\n",
       "      <td>0</td>\n",
       "      <td>F</td>\n",
       "      <td>компаньон</td>\n",
       "      <td>0</td>\n",
       "      <td>240525.971920</td>\n",
       "      <td>операции с жильем</td>\n",
       "    </tr>\n",
       "    <tr>\n",
       "      <td>7</td>\n",
       "      <td>0</td>\n",
       "      <td>-152.779569</td>\n",
       "      <td>50</td>\n",
       "      <td>СРЕДНЕЕ</td>\n",
       "      <td>1</td>\n",
       "      <td>женат / замужем</td>\n",
       "      <td>0</td>\n",
       "      <td>M</td>\n",
       "      <td>сотрудник</td>\n",
       "      <td>0</td>\n",
       "      <td>135823.934197</td>\n",
       "      <td>образование</td>\n",
       "    </tr>\n",
       "    <tr>\n",
       "      <td>8</td>\n",
       "      <td>2</td>\n",
       "      <td>-6929.865299</td>\n",
       "      <td>35</td>\n",
       "      <td>ВЫСШЕЕ</td>\n",
       "      <td>0</td>\n",
       "      <td>гражданский брак</td>\n",
       "      <td>1</td>\n",
       "      <td>F</td>\n",
       "      <td>сотрудник</td>\n",
       "      <td>0</td>\n",
       "      <td>95856.832424</td>\n",
       "      <td>на проведение свадьбы</td>\n",
       "    </tr>\n",
       "    <tr>\n",
       "      <td>9</td>\n",
       "      <td>0</td>\n",
       "      <td>-2188.756445</td>\n",
       "      <td>41</td>\n",
       "      <td>среднее</td>\n",
       "      <td>1</td>\n",
       "      <td>женат / замужем</td>\n",
       "      <td>0</td>\n",
       "      <td>M</td>\n",
       "      <td>сотрудник</td>\n",
       "      <td>0</td>\n",
       "      <td>144425.938277</td>\n",
       "      <td>покупка жилья для семьи</td>\n",
       "    </tr>\n",
       "    <tr>\n",
       "      <td>10</td>\n",
       "      <td>2</td>\n",
       "      <td>-4171.483647</td>\n",
       "      <td>36</td>\n",
       "      <td>высшее</td>\n",
       "      <td>0</td>\n",
       "      <td>женат / замужем</td>\n",
       "      <td>0</td>\n",
       "      <td>M</td>\n",
       "      <td>компаньон</td>\n",
       "      <td>0</td>\n",
       "      <td>113943.491460</td>\n",
       "      <td>покупка недвижимости</td>\n",
       "    </tr>\n",
       "    <tr>\n",
       "      <td>11</td>\n",
       "      <td>0</td>\n",
       "      <td>-792.701887</td>\n",
       "      <td>40</td>\n",
       "      <td>среднее</td>\n",
       "      <td>1</td>\n",
       "      <td>женат / замужем</td>\n",
       "      <td>0</td>\n",
       "      <td>F</td>\n",
       "      <td>сотрудник</td>\n",
       "      <td>0</td>\n",
       "      <td>77069.234271</td>\n",
       "      <td>покупка коммерческой недвижимости</td>\n",
       "    </tr>\n",
       "    <tr>\n",
       "      <td>12</td>\n",
       "      <td>0</td>\n",
       "      <td>NaN</td>\n",
       "      <td>65</td>\n",
       "      <td>среднее</td>\n",
       "      <td>1</td>\n",
       "      <td>гражданский брак</td>\n",
       "      <td>1</td>\n",
       "      <td>M</td>\n",
       "      <td>пенсионер</td>\n",
       "      <td>0</td>\n",
       "      <td>NaN</td>\n",
       "      <td>сыграть свадьбу</td>\n",
       "    </tr>\n",
       "    <tr>\n",
       "      <td>13</td>\n",
       "      <td>0</td>\n",
       "      <td>-1846.641941</td>\n",
       "      <td>54</td>\n",
       "      <td>неоконченное высшее</td>\n",
       "      <td>2</td>\n",
       "      <td>женат / замужем</td>\n",
       "      <td>0</td>\n",
       "      <td>F</td>\n",
       "      <td>сотрудник</td>\n",
       "      <td>0</td>\n",
       "      <td>130458.228857</td>\n",
       "      <td>приобретение автомобиля</td>\n",
       "    </tr>\n",
       "    <tr>\n",
       "      <td>14</td>\n",
       "      <td>0</td>\n",
       "      <td>-1844.956182</td>\n",
       "      <td>56</td>\n",
       "      <td>высшее</td>\n",
       "      <td>0</td>\n",
       "      <td>гражданский брак</td>\n",
       "      <td>1</td>\n",
       "      <td>F</td>\n",
       "      <td>компаньон</td>\n",
       "      <td>1</td>\n",
       "      <td>165127.911772</td>\n",
       "      <td>покупка жилой недвижимости</td>\n",
       "    </tr>\n",
       "    <tr>\n",
       "      <td>15</td>\n",
       "      <td>1</td>\n",
       "      <td>-972.364419</td>\n",
       "      <td>26</td>\n",
       "      <td>среднее</td>\n",
       "      <td>1</td>\n",
       "      <td>женат / замужем</td>\n",
       "      <td>0</td>\n",
       "      <td>F</td>\n",
       "      <td>сотрудник</td>\n",
       "      <td>0</td>\n",
       "      <td>116820.904450</td>\n",
       "      <td>строительство собственной недвижимости</td>\n",
       "    </tr>\n",
       "    <tr>\n",
       "      <td>16</td>\n",
       "      <td>0</td>\n",
       "      <td>-1719.934226</td>\n",
       "      <td>35</td>\n",
       "      <td>среднее</td>\n",
       "      <td>1</td>\n",
       "      <td>женат / замужем</td>\n",
       "      <td>0</td>\n",
       "      <td>F</td>\n",
       "      <td>сотрудник</td>\n",
       "      <td>0</td>\n",
       "      <td>289202.704229</td>\n",
       "      <td>недвижимость</td>\n",
       "    </tr>\n",
       "    <tr>\n",
       "      <td>17</td>\n",
       "      <td>0</td>\n",
       "      <td>-2369.999720</td>\n",
       "      <td>33</td>\n",
       "      <td>высшее</td>\n",
       "      <td>0</td>\n",
       "      <td>гражданский брак</td>\n",
       "      <td>1</td>\n",
       "      <td>M</td>\n",
       "      <td>сотрудник</td>\n",
       "      <td>0</td>\n",
       "      <td>90410.586745</td>\n",
       "      <td>строительство недвижимости</td>\n",
       "    </tr>\n",
       "    <tr>\n",
       "      <td>18</td>\n",
       "      <td>0</td>\n",
       "      <td>400281.136913</td>\n",
       "      <td>53</td>\n",
       "      <td>среднее</td>\n",
       "      <td>1</td>\n",
       "      <td>вдовец / вдова</td>\n",
       "      <td>2</td>\n",
       "      <td>F</td>\n",
       "      <td>пенсионер</td>\n",
       "      <td>0</td>\n",
       "      <td>56823.777243</td>\n",
       "      <td>на покупку подержанного автомобиля</td>\n",
       "    </tr>\n",
       "    <tr>\n",
       "      <td>19</td>\n",
       "      <td>0</td>\n",
       "      <td>-10038.818549</td>\n",
       "      <td>48</td>\n",
       "      <td>СРЕДНЕЕ</td>\n",
       "      <td>1</td>\n",
       "      <td>в разводе</td>\n",
       "      <td>3</td>\n",
       "      <td>F</td>\n",
       "      <td>сотрудник</td>\n",
       "      <td>0</td>\n",
       "      <td>242831.107982</td>\n",
       "      <td>на покупку своего автомобиля</td>\n",
       "    </tr>\n",
       "  </tbody>\n",
       "</table>\n",
       "</div>"
      ],
      "text/plain": [
       "    children  days_employed  dob_years            education  education_id  \\\n",
       "0          1   -8437.673028         42               высшее             0   \n",
       "1          1   -4024.803754         36              среднее             1   \n",
       "2          0   -5623.422610         33              Среднее             1   \n",
       "3          3   -4124.747207         32              среднее             1   \n",
       "4          0  340266.072047         53              среднее             1   \n",
       "5          0    -926.185831         27               высшее             0   \n",
       "6          0   -2879.202052         43               высшее             0   \n",
       "7          0    -152.779569         50              СРЕДНЕЕ             1   \n",
       "8          2   -6929.865299         35               ВЫСШЕЕ             0   \n",
       "9          0   -2188.756445         41              среднее             1   \n",
       "10         2   -4171.483647         36               высшее             0   \n",
       "11         0    -792.701887         40              среднее             1   \n",
       "12         0            NaN         65              среднее             1   \n",
       "13         0   -1846.641941         54  неоконченное высшее             2   \n",
       "14         0   -1844.956182         56               высшее             0   \n",
       "15         1    -972.364419         26              среднее             1   \n",
       "16         0   -1719.934226         35              среднее             1   \n",
       "17         0   -2369.999720         33               высшее             0   \n",
       "18         0  400281.136913         53              среднее             1   \n",
       "19         0  -10038.818549         48              СРЕДНЕЕ             1   \n",
       "\n",
       "       family_status  family_status_id gender income_type  debt  \\\n",
       "0    женат / замужем                 0      F   сотрудник     0   \n",
       "1    женат / замужем                 0      F   сотрудник     0   \n",
       "2    женат / замужем                 0      M   сотрудник     0   \n",
       "3    женат / замужем                 0      M   сотрудник     0   \n",
       "4   гражданский брак                 1      F   пенсионер     0   \n",
       "5   гражданский брак                 1      M   компаньон     0   \n",
       "6    женат / замужем                 0      F   компаньон     0   \n",
       "7    женат / замужем                 0      M   сотрудник     0   \n",
       "8   гражданский брак                 1      F   сотрудник     0   \n",
       "9    женат / замужем                 0      M   сотрудник     0   \n",
       "10   женат / замужем                 0      M   компаньон     0   \n",
       "11   женат / замужем                 0      F   сотрудник     0   \n",
       "12  гражданский брак                 1      M   пенсионер     0   \n",
       "13   женат / замужем                 0      F   сотрудник     0   \n",
       "14  гражданский брак                 1      F   компаньон     1   \n",
       "15   женат / замужем                 0      F   сотрудник     0   \n",
       "16   женат / замужем                 0      F   сотрудник     0   \n",
       "17  гражданский брак                 1      M   сотрудник     0   \n",
       "18    вдовец / вдова                 2      F   пенсионер     0   \n",
       "19         в разводе                 3      F   сотрудник     0   \n",
       "\n",
       "     total_income                                 purpose  \n",
       "0   253875.639453                           покупка жилья  \n",
       "1   112080.014102                 приобретение автомобиля  \n",
       "2   145885.952297                           покупка жилья  \n",
       "3   267628.550329              дополнительное образование  \n",
       "4   158616.077870                         сыграть свадьбу  \n",
       "5   255763.565419                           покупка жилья  \n",
       "6   240525.971920                       операции с жильем  \n",
       "7   135823.934197                             образование  \n",
       "8    95856.832424                   на проведение свадьбы  \n",
       "9   144425.938277                 покупка жилья для семьи  \n",
       "10  113943.491460                    покупка недвижимости  \n",
       "11   77069.234271       покупка коммерческой недвижимости  \n",
       "12            NaN                         сыграть свадьбу  \n",
       "13  130458.228857                 приобретение автомобиля  \n",
       "14  165127.911772              покупка жилой недвижимости  \n",
       "15  116820.904450  строительство собственной недвижимости  \n",
       "16  289202.704229                            недвижимость  \n",
       "17   90410.586745              строительство недвижимости  \n",
       "18   56823.777243      на покупку подержанного автомобиля  \n",
       "19  242831.107982            на покупку своего автомобиля  "
      ]
     },
     "execution_count": 29,
     "metadata": {},
     "output_type": "execute_result"
    }
   ],
   "source": [
    "data.head(20)"
   ]
  },
  {
   "cell_type": "code",
   "execution_count": 30,
   "metadata": {
    "deletable": false,
    "id": "ab3f863b",
    "outputId": "15376089-8dad-46c9-b520-c05248d43158"
   },
   "outputs": [
    {
     "name": "stdout",
     "output_type": "stream",
     "text": [
      "<class 'pandas.core.frame.DataFrame'>\n",
      "RangeIndex: 21525 entries, 0 to 21524\n",
      "Data columns (total 12 columns):\n",
      "children            21525 non-null int64\n",
      "days_employed       19351 non-null float64\n",
      "dob_years           21525 non-null int64\n",
      "education           21525 non-null object\n",
      "education_id        21525 non-null int64\n",
      "family_status       21525 non-null object\n",
      "family_status_id    21525 non-null int64\n",
      "gender              21525 non-null object\n",
      "income_type         21525 non-null object\n",
      "debt                21525 non-null int64\n",
      "total_income        19351 non-null float64\n",
      "purpose             21525 non-null object\n",
      "dtypes: float64(2), int64(5), object(5)\n",
      "memory usage: 2.0+ MB\n"
     ]
    }
   ],
   "source": [
    "data.info()"
   ]
  },
  {
   "cell_type": "markdown",
   "metadata": {
    "deletable": false,
    "editable": false,
    "id": "60e3e22d"
   },
   "source": [
    "## Предобработка данных"
   ]
  },
  {
   "cell_type": "markdown",
   "metadata": {
    "deletable": false,
    "editable": false,
    "id": "03dc170c"
   },
   "source": [
    "### Удаление пропусков"
   ]
  },
  {
   "cell_type": "markdown",
   "metadata": {
    "id": "a4f54eef"
   },
   "source": [
    "**Задание 4. Выведем количество пропущенных значений для каждого столбца."
   ]
  },
  {
   "cell_type": "code",
   "execution_count": 31,
   "metadata": {
    "deletable": false,
    "id": "2dc372b2",
    "outputId": "81f4d817-781c-465c-ed15-91ce4446810d"
   },
   "outputs": [
    {
     "data": {
      "text/plain": [
       "children               0\n",
       "days_employed       2174\n",
       "dob_years              0\n",
       "education              0\n",
       "education_id           0\n",
       "family_status          0\n",
       "family_status_id       0\n",
       "gender                 0\n",
       "income_type            0\n",
       "debt                   0\n",
       "total_income        2174\n",
       "purpose                0\n",
       "dtype: int64"
      ]
     },
     "execution_count": 31,
     "metadata": {},
     "output_type": "execute_result"
    }
   ],
   "source": [
    "data.isna().sum()"
   ]
  },
  {
   "cell_type": "code",
   "execution_count": 32,
   "metadata": {
    "id": "bdabfb6e"
   },
   "outputs": [],
   "source": [
    "#На сумму дохода сильнее всего влияет тип занятости, поэтому заполним пропуски в этом столбце  медианным значением по каждому типу из столбца income_type\n",
    "for t in data['income_type'].unique():\n",
    "    data.loc[(data['income_type'] == t) & (data['total_income'].isna()), 'total_income'] = \\\n",
    "    data.loc[(data['income_type'] == t), 'total_income'].median()"
   ]
  },
  {
   "cell_type": "markdown",
   "metadata": {
    "deletable": false,
    "editable": false,
    "id": "5be34059"
   },
   "source": [
    "### Обработка аномальных значений"
   ]
  },
  {
   "cell_type": "code",
   "execution_count": 33,
   "metadata": {
    "deletable": false,
    "id": "020c46cc"
   },
   "outputs": [],
   "source": [
    "#замените все отрицательные значения положительными с помощью метода abs()\n",
    "data['days_employed'] = data['days_employed'].abs()"
   ]
  },
  {
   "cell_type": "markdown",
   "metadata": {
    "id": "45538a3a"
   },
   "source": [
    "**Задание 7. Для каждого типа занятости выведите медианное значение трудового стажа `days_employed` в днях.**"
   ]
  },
  {
   "cell_type": "code",
   "execution_count": 34,
   "metadata": {
    "deletable": false,
    "id": "cd3e6328",
    "outputId": "801ef80e-522b-4668-f34e-565af7432bcf"
   },
   "outputs": [
    {
     "data": {
      "text/plain": [
       "income_type\n",
       "безработный        366413.652744\n",
       "в декрете            3296.759962\n",
       "госслужащий          2689.368353\n",
       "компаньон            1547.382223\n",
       "пенсионер          365213.306266\n",
       "предприниматель       520.848083\n",
       "сотрудник            1574.202821\n",
       "студент               578.751554\n",
       "Name: days_employed, dtype: float64"
      ]
     },
     "execution_count": 34,
     "metadata": {},
     "output_type": "execute_result"
    }
   ],
   "source": [
    "#Для каждого типа занятости выведите медианное значение трудового стажа days_employed в днях\n",
    "data.groupby('income_type')['days_employed'].agg('median')"
   ]
  },
  {
   "cell_type": "markdown",
   "metadata": {
    "id": "90c5f058"
   },
   "source": [
    "У двух типов (безработные и пенсионеры) получаются аномально большие значения. Оставим так как есть."
   ]
  },
  {
   "cell_type": "code",
   "execution_count": 35,
   "metadata": {
    "deletable": false,
    "id": "dbb37b8e",
    "outputId": "6975b15c-7f95-4697-d16d-a0c79b657b03"
   },
   "outputs": [
    {
     "data": {
      "text/plain": [
       "array([ 1,  0,  3,  2, -1,  4, 20,  5], dtype=int64)"
      ]
     },
     "execution_count": 35,
     "metadata": {},
     "output_type": "execute_result"
    }
   ],
   "source": [
    "#Выведем перечень уникальных значений столбца `children`\n",
    "data['children'].unique()"
   ]
  },
  {
   "cell_type": "code",
   "execution_count": 36,
   "metadata": {
    "deletable": false,
    "id": "20009df8"
   },
   "outputs": [],
   "source": [
    "#удалим аномальные значения\n",
    "data = data[(data['children'] != -1) & (data['children'] != 20)]"
   ]
  },
  {
   "cell_type": "code",
   "execution_count": 37,
   "metadata": {
    "deletable": false,
    "id": "07337b81",
    "outputId": "b2097101-d49d-44d9-901b-32a65c9463d1"
   },
   "outputs": [
    {
     "data": {
      "text/plain": [
       "array([1, 0, 3, 2, 4, 5], dtype=int64)"
      ]
     },
     "execution_count": 37,
     "metadata": {},
     "output_type": "execute_result"
    }
   ],
   "source": [
    "data['children'].unique()"
   ]
  },
  {
   "cell_type": "markdown",
   "metadata": {
    "id": "ee3f52d4"
   },
   "source": [
    "### Удаление пропусков."
   ]
  },
  {
   "cell_type": "code",
   "execution_count": 38,
   "metadata": {
    "id": "61946b83"
   },
   "outputs": [],
   "source": [
    "#Заполним пропуски в столбце days_employed медианными значениями для каждого типа занятости income_type\n",
    "for t in data['income_type'].unique():\n",
    "    data.loc[(data['income_type'] == t) & (data['days_employed'].isna()), 'days_employed'] = \\\n",
    "    data.loc[(data['income_type'] == t), 'days_employed'].median()"
   ]
  },
  {
   "cell_type": "code",
   "execution_count": 39,
   "metadata": {
    "deletable": false,
    "id": "937c7014",
    "outputId": "8da1e4e1-358e-4e87-98c9-f261bce0a7b2"
   },
   "outputs": [
    {
     "data": {
      "text/plain": [
       "children            0\n",
       "days_employed       0\n",
       "dob_years           0\n",
       "education           0\n",
       "education_id        0\n",
       "family_status       0\n",
       "family_status_id    0\n",
       "gender              0\n",
       "income_type         0\n",
       "debt                0\n",
       "total_income        0\n",
       "purpose             0\n",
       "dtype: int64"
      ]
     },
     "execution_count": 39,
     "metadata": {},
     "output_type": "execute_result"
    }
   ],
   "source": [
    "data.isna().sum()"
   ]
  },
  {
   "cell_type": "markdown",
   "metadata": {
    "deletable": false,
    "editable": false,
    "id": "d522e295"
   },
   "source": [
    "### Изменение типов данных"
   ]
  },
  {
   "cell_type": "code",
   "execution_count": 40,
   "metadata": {
    "deletable": false,
    "id": "31036462"
   },
   "outputs": [],
   "source": [
    "data['total_income'] = data['total_income'].astype(int)"
   ]
  },
  {
   "cell_type": "markdown",
   "metadata": {
    "deletable": false,
    "editable": false,
    "id": "b8e3d1d9"
   },
   "source": [
    "### Обработка дубликатов"
   ]
  },
  {
   "cell_type": "code",
   "execution_count": 41,
   "metadata": {
    "id": "d89e73e1"
   },
   "outputs": [],
   "source": [
    "#Обработаем неявнфе дубликаты, приведем к нижнему регистру.\n",
    "data['education'] = data['education'].str.lower()"
   ]
  },
  {
   "cell_type": "code",
   "execution_count": 42,
   "metadata": {
    "id": "e10efb23",
    "outputId": "9684deba-1934-42d1-99e1-cda61740f822"
   },
   "outputs": [
    {
     "data": {
      "text/plain": [
       "71"
      ]
     },
     "execution_count": 42,
     "metadata": {},
     "output_type": "execute_result"
    }
   ],
   "source": [
    "#выведем кол-во строк дубликатов\n",
    "data.duplicated().sum()"
   ]
  },
  {
   "cell_type": "code",
   "execution_count": 43,
   "metadata": {
    "id": "df853f20"
   },
   "outputs": [],
   "source": [
    "# удалим дубликаты\n",
    "data = data.drop_duplicates()"
   ]
  },
  {
   "cell_type": "markdown",
   "metadata": {
    "deletable": false,
    "editable": false,
    "id": "627be38f"
   },
   "source": [
    "### Категоризация данных"
   ]
  },
  {
   "cell_type": "code",
   "execution_count": 44,
   "metadata": {
    "id": "78965238"
   },
   "outputs": [],
   "source": [
    "# категоризируем данные\n",
    "def categorize_income(income):\n",
    "    try:\n",
    "        if 0 <= income <= 30000:\n",
    "            return 'E'\n",
    "        elif 30001 <= income <= 50000:\n",
    "            return 'D'\n",
    "        elif 50001 <= income <= 200000:\n",
    "            return 'C'\n",
    "        elif 200001 <= income <= 1000000:\n",
    "            return 'B'\n",
    "        elif income >= 1000001:\n",
    "            return 'A'\n",
    "    except:\n",
    "        pass"
   ]
  },
  {
   "cell_type": "code",
   "execution_count": 45,
   "metadata": {
    "deletable": false,
    "id": "0980ada1"
   },
   "outputs": [],
   "source": [
    "data['total_income_category'] = data['total_income'].apply(categorize_income)"
   ]
  },
  {
   "cell_type": "code",
   "execution_count": 46,
   "metadata": {
    "deletable": false,
    "id": "ee07b65e",
    "outputId": "673c12d9-7d7e-4ae0-9812-c622c89dd244"
   },
   "outputs": [
    {
     "data": {
      "text/plain": [
       "array(['покупка жилья', 'приобретение автомобиля',\n",
       "       'дополнительное образование', 'сыграть свадьбу',\n",
       "       'операции с жильем', 'образование', 'на проведение свадьбы',\n",
       "       'покупка жилья для семьи', 'покупка недвижимости',\n",
       "       'покупка коммерческой недвижимости', 'покупка жилой недвижимости',\n",
       "       'строительство собственной недвижимости', 'недвижимость',\n",
       "       'строительство недвижимости', 'на покупку подержанного автомобиля',\n",
       "       'на покупку своего автомобиля',\n",
       "       'операции с коммерческой недвижимостью',\n",
       "       'строительство жилой недвижимости', 'жилье',\n",
       "       'операции со своей недвижимостью', 'автомобили',\n",
       "       'заняться образованием', 'сделка с подержанным автомобилем',\n",
       "       'получение образования', 'автомобиль', 'свадьба',\n",
       "       'получение дополнительного образования', 'покупка своего жилья',\n",
       "       'операции с недвижимостью', 'получение высшего образования',\n",
       "       'свой автомобиль', 'сделка с автомобилем',\n",
       "       'профильное образование', 'высшее образование',\n",
       "       'покупка жилья для сдачи', 'на покупку автомобиля', 'ремонт жилью',\n",
       "       'заняться высшим образованием'], dtype=object)"
      ]
     },
     "execution_count": 46,
     "metadata": {},
     "output_type": "execute_result"
    }
   ],
   "source": [
    "# перечень уникальных целей взятия кредита\n",
    "data['purpose'].unique()"
   ]
  },
  {
   "cell_type": "code",
   "execution_count": 47,
   "metadata": {
    "id": "be41da5d"
   },
   "outputs": [],
   "source": [
    "# создадим новый столбец с категориями через функцию.\n",
    "def categorize_purpose(row):\n",
    "    try:\n",
    "        if 'автом' in row:\n",
    "            return 'операции с автомобилем'\n",
    "        elif 'жил' in row or 'недвиж' in row:\n",
    "            return 'операции с недвижимостью'\n",
    "        elif 'свад' in row:\n",
    "            return 'проведение свадьбы'\n",
    "        elif 'образов' in row:\n",
    "            return 'получение образования'\n",
    "    except:\n",
    "        return 'нет категории'"
   ]
  },
  {
   "cell_type": "code",
   "execution_count": 48,
   "metadata": {
    "deletable": false,
    "id": "94c4a19a"
   },
   "outputs": [],
   "source": [
    "data['purpose_category'] = data['purpose'].apply(categorize_purpose)"
   ]
  },
  {
   "cell_type": "markdown",
   "metadata": {
    "id": "3d596c34"
   },
   "source": [
    "### Исследование  данных ."
   ]
  },
  {
   "cell_type": "markdown",
   "metadata": {
    "id": "648db036"
   },
   "source": [
    "#### Гипотеза:\n",
    "Есть ли зависимость между количеством детей и возвратом кредита в срок?"
   ]
  },
  {
   "cell_type": "code",
   "execution_count": 49,
   "metadata": {
    "deletable": false,
    "id": "7fcff25e"
   },
   "outputs": [
    {
     "name": "stdout",
     "output_type": "stream",
     "text": [
      "children\n",
      "0    7.543822\n",
      "1    9.234609\n",
      "2    9.454191\n",
      "3    8.181818\n",
      "4    9.756098\n",
      "5    0.000000\n",
      "dtype: float64\n",
      "           sum  count\n",
      "children             \n",
      "0         1063  14091\n",
      "1          444   4808\n",
      "2          194   2052\n",
      "3           27    330\n",
      "4            4     41\n",
      "5            0      9\n"
     ]
    }
   ],
   "source": [
    "count_children = data.groupby('children')['debt'].agg(['sum','count']) # сгруппируем данные по столбцу 'children',посчитаем общее кол- во кредитов по группам и сумму просроченных кредитов.\n",
    "result_children = count_children['sum']/count_children['count']  # посчитаем долю просроченных кредитов.\n",
    "print(result_children*100)\n",
    "print(count_children)\n"
   ]
  },
  {
   "cell_type": "markdown",
   "metadata": {
    "deletable": false,
    "id": "2eb9088e"
   },
   "source": [
    "**Вывод:** \n",
    "1. Большая часть заемщиков - это люди без детей. На их долю приходится 14091 кредитов. Они же чаще всего возращают кредиты в срок.\n",
    "2. Второе и третье место по количеству кредитов приходится на заемщиков с 1 и 2-мя детьми. Среди них высокий процент просрочек.\n",
    "3. Заемщики у которых 3-е детей реже обращаются за кредитами и аккуратнее относятся к возвратам по сравнению с заемщиками с одним и двумя детьми.\n",
    "4. Заемщики с 4-мя детьми имеют небольшой процент кредитования и наихудший показатель по возвратам, процент просрочки = 9,8%.\n",
    "5. Меньше всего кредитов приходится на долю заемщиков с 5-ю детьми. Кол-во просрочек у них равно 0."
   ]
  },
  {
   "cell_type": "markdown",
   "metadata": {
    "id": "74c9b3a7"
   },
   "source": [
    "#### Гипотеза:\n",
    "Есть ли зависимость между семейным положением и возвратом кредита в срок?"
   ]
  },
  {
   "cell_type": "code",
   "execution_count": 50,
   "metadata": {
    "deletable": false,
    "id": "8098ab3b"
   },
   "outputs": [
    {
     "name": "stdout",
     "output_type": "stream",
     "text": [
      "                       sum  count\n",
      "family_status                    \n",
      "Не женат / не замужем  273   2796\n",
      "в разводе               84   1189\n",
      "вдовец / вдова          63    951\n",
      "гражданский брак       385   4134\n",
      "женат / замужем        927  12261\n",
      "family_status\n",
      "Не женат / не замужем    9.763948\n",
      "в разводе                7.064760\n",
      "вдовец / вдова           6.624606\n",
      "гражданский брак         9.313014\n",
      "женат / замужем          7.560558\n",
      "dtype: float64\n"
     ]
    }
   ],
   "source": [
    "family_status_count_sum = data.groupby('family_status')['debt'].agg(['sum','count'])  # сгруппируем данные по столбцу 'family_status',\n",
    "                                                                                     # посчитаем общее кол- во кредитов по группам и сумму просроченных кредитов.\n",
    "result_family_status = family_status_count_sum['sum']/family_status_count_sum['count'] # посчитаем долю просроченных кредитов.\n",
    "print(family_status_count_sum)\n",
    "print(result_family_status*100)\n"
   ]
  },
  {
   "cell_type": "markdown",
   "metadata": {
    "deletable": false,
    "id": "c389ca63"
   },
   "source": [
    "**Вывод:** \n",
    "1. Большая для кредитов приходится на семейные пары. У этой категории заемщиков низкий процент просрочек по кредиту(7.6%). \n",
    "2. Второе место по кредитованию у пар в гражданском браке. У этой категории заемщиков высокий процент просрочек(9.3%)\n",
    "3. Заемщики в статусе \"свободен(на)\" занимают 3-е место по числу кредитов и первое место по просрочкам(9.8%)\n",
    "4. Заемщики в статусе \"разведен(на)\" аккуратно выплачивают кредит.\n",
    "4. На категоря вдовец(ва) приходится меньше всего кредитов. Они самые аккуратные заемщики(6.6%).\n",
    "Большая часть кредиторов - семеные пары. Займы выплачивают аккуратно. \n",
    "Во вторую группу можно объединить пары, которые проживают в гражданском браке или заемщики в статусе \"свободен(на)\". У этих групп самый высокий процент по просрочкам. Заемщики в разводе составляют небольшую группу, которая имеет небольшой процент по просрочкам. Самая маленькая группа заемщиков с лучшими показателями - это вдовы(цы). "
   ]
  },
  {
   "cell_type": "markdown",
   "metadata": {
    "id": "9529de68"
   },
   "source": [
    "#### Гипотеза:\n",
    "Есть ли зависимость между уровнем дохода и возвратом кредита в срок?"
   ]
  },
  {
   "cell_type": "code",
   "execution_count": 51,
   "metadata": {
    "deletable": false,
    "id": "8787f44a"
   },
   "outputs": [
    {
     "name": "stdout",
     "output_type": "stream",
     "text": [
      "                        sum  count\n",
      "total_income_category             \n",
      "A                         2     25\n",
      "B                       354   5014\n",
      "C                      1353  15921\n",
      "D                        21    349\n",
      "E                         2     22\n",
      "total_income_category\n",
      "A    8.000000\n",
      "B    7.060231\n",
      "C    8.498210\n",
      "D    6.017192\n",
      "E    9.090909\n",
      "dtype: float64\n"
     ]
    }
   ],
   "source": [
    "income_by_category_count_sum = data.groupby('total_income_category')['debt'].agg(['sum','count'])  #сгруппируем данные по столбцу 'total_income_category',посчитаем общее кол- во кредитов по группам и сумму просроченных кредитов.\n",
    "result_income_by_category = income_by_category_count_sum['sum']/income_by_category_count_sum['count']  # посчитаем долю просроченных кредитов.\n",
    "print(income_by_category_count_sum)\n",
    "print(result_income_by_category*100)\n"
   ]
  },
  {
   "cell_type": "markdown",
   "metadata": {
    "deletable": false,
    "id": "6dd14b57"
   },
   "source": [
    "**Вывод:** \n",
    "1. В результате анализа можно выделить 2 небольшие группы. Это заемщики категории 'A' и \"Е\", люди с максимально низким и максимально высоким доходом имеют высокий процент просрочек по кредиту. для того чтобы ответить на поставленный вопрос по данной категории нужно больше данных.\n",
    "2. Самая крупная категория заемщиков - это люди с доходом от 50 000 до 200 000 рубл. Их также нельзя отнести к аккуратным плательщикам.\n",
    "3. Заемщики категории \"В\"  входят во вторую по размерам группу. Можно сказать, что это люди с высоким доходом, которые исправно возращают займ.\n",
    "4. Небольшая группа заемщиков в категории \"D\". Это люди с невысоким  доходом и самыми лучшими показателями по выплатам. "
   ]
  },
  {
   "cell_type": "markdown",
   "metadata": {
    "id": "1dcc9b12"
   },
   "source": [
    "#### Гипотеза:\n",
    "Как разные цели кредита влияют на его возврат в срок?"
   ]
  },
  {
   "cell_type": "code",
   "execution_count": 52,
   "metadata": {
    "deletable": false,
    "id": "c602bc8b"
   },
   "outputs": [
    {
     "name": "stdout",
     "output_type": "stream",
     "text": [
      "                          sum  count\n",
      "purpose_category                    \n",
      "операции с автомобилем    400   4279\n",
      "операции с недвижимостью  780  10751\n",
      "получение образования     369   3988\n",
      "проведение свадьбы        183   2313\n",
      "purpose_category\n",
      "операции с автомобилем      9.347978\n",
      "операции с недвижимостью    7.255139\n",
      "получение образования       9.252758\n",
      "проведение свадьбы          7.911803\n",
      "dtype: float64\n"
     ]
    }
   ],
   "source": [
    "purpose_category_count_sum = data.groupby('purpose_category')['debt'].agg(['sum','count'])  #сгруппируем данные по столбцу 'purpose_category',посчитаем общее кол- во кредитов по группам и сумму просроченных кредитов.\n",
    "result_purpose_category = purpose_category_count_sum['sum']/purpose_category_count_sum['count']# посчитаем долю просроченных кредитов.\n",
    "print(purpose_category_count_sum)\n",
    "print(result_purpose_category*100)\n"
   ]
  },
  {
   "cell_type": "markdown",
   "metadata": {
    "deletable": false,
    "id": "cf05ed63"
   },
   "source": [
    "**Вывод:** \n",
    "1. Большая доля кредитов приходится на операции с недвижимостью. По этой категории самые высокие показатели своевременных выплат.\n",
    "2. Вторая по численности доля кредитов приходится на покупку автомобиля. У этой категории наихудший показатель по просрочке выплат.\n",
    "3. Кредиты на получение образования также имеют высокий процент просрочек.\n",
    "4. Высокий показатель по своевременным выплатам у заемщиков, которые берут кредит на свадьбу."
   ]
  },
  {
   "cell_type": "code",
   "execution_count": 53,
   "metadata": {
    "scrolled": true
   },
   "outputs": [
    {
     "name": "stdout",
     "output_type": "stream",
     "text": [
      "gender\n",
      "F       7.018166\n",
      "M      10.265267\n",
      "XNA     0.000000\n",
      "Name: debt, dtype: float64\n",
      "gender\n",
      "F      14092\n",
      "M       7238\n",
      "XNA        1\n",
      "Name: debt, dtype: int64\n"
     ]
    }
   ],
   "source": [
    "print( data.groupby('gender')['debt'].sum() * 100 / data.groupby('gender')['debt'].count())\n",
    "print( data.groupby('gender')['debt'].count())"
   ]
  },
  {
   "cell_type": "markdown",
   "metadata": {},
   "source": [
    "Вывод: Большая часть кредиторов - женщины, мужчин на 50% меньше. С чем это связано сложно сказать. Может быть, потому что женщин в России больше чем мужчин. Может быть, потому что мужчинам не одобряют кредит повторно и они оформляют их на жен. Невозможно дать точный ответ на этот вопрос,т.к. недостаточно данных. Но факт остается фактом -заемщики женщины более ответственно относятся к выплате кредитов по сравнению с заемщиками мужчинами. "
   ]
  },
  {
   "cell_type": "markdown",
   "metadata": {},
   "source": [
    "###  Общий вывод."
   ]
  },
  {
   "cell_type": "markdown",
   "metadata": {},
   "source": [
    "Заказчик — кредитный отдел банка. Нужно разобраться, влияет ли семейное положение и количество детей клиента на факт погашения кредита в срок. Входные данные от банка — статистика о платёжеспособности клиентов.\n",
    "В процессе анализа данных были выявлены пропуски в столбцах \"days_employed \" и \"days_employed \". Пропуски заполнили значениями по медиане. Выявленные дубликаты обработаны. Данные по целям кредита и доходам клиента разбиты по категориям для удобства анализа.\n",
    "Проанализировав данные можно сделать следующие выводы:\n",
    "1. Самые надежные заемщики - это семьи без детей, с высоким доходом, которые планируют покупку недвижимости.\n",
    "2. Самые ненадежные - это свободные заемщики( либо состоящие в гражданском браке) с низким доходом, которые планируют покупку автомобиля.\n",
    "3. Большая часть кредитов была одобрена женщинам, они же аккуратнее относятся к выплатам.\n",
    "\n"
   ]
  }
 ],
 "metadata": {
  "ExecuteTimeLog": [
   {
    "duration": 762,
    "start_time": "2023-02-10T10:24:48.029Z"
   },
   {
    "duration": 23,
    "start_time": "2023-02-10T10:24:48.792Z"
   },
   {
    "duration": 24,
    "start_time": "2023-02-10T10:24:48.817Z"
   },
   {
    "duration": 18,
    "start_time": "2023-02-10T10:24:48.844Z"
   },
   {
    "duration": 58,
    "start_time": "2023-02-10T10:24:48.864Z"
   },
   {
    "duration": 3,
    "start_time": "2023-02-10T10:24:48.924Z"
   },
   {
    "duration": 18,
    "start_time": "2023-02-10T10:24:48.929Z"
   },
   {
    "duration": 20,
    "start_time": "2023-02-10T10:24:48.948Z"
   },
   {
    "duration": 12,
    "start_time": "2023-02-10T10:24:48.970Z"
   },
   {
    "duration": 10,
    "start_time": "2023-02-10T10:24:48.984Z"
   },
   {
    "duration": 42,
    "start_time": "2023-02-10T10:24:48.996Z"
   },
   {
    "duration": 17,
    "start_time": "2023-02-10T10:24:49.040Z"
   },
   {
    "duration": 12,
    "start_time": "2023-02-10T10:24:49.059Z"
   },
   {
    "duration": 27,
    "start_time": "2023-02-10T10:24:49.073Z"
   },
   {
    "duration": 31,
    "start_time": "2023-02-10T10:24:49.102Z"
   },
   {
    "duration": 25,
    "start_time": "2023-02-10T10:24:49.135Z"
   },
   {
    "duration": 4,
    "start_time": "2023-02-10T10:24:49.164Z"
   },
   {
    "duration": 17,
    "start_time": "2023-02-10T10:24:49.170Z"
   },
   {
    "duration": 11,
    "start_time": "2023-02-10T10:24:49.189Z"
   },
   {
    "duration": 6,
    "start_time": "2023-02-10T10:24:49.201Z"
   },
   {
    "duration": 14,
    "start_time": "2023-02-10T10:24:49.208Z"
   },
   {
    "duration": 12,
    "start_time": "2023-02-10T10:24:52.921Z"
   },
   {
    "duration": 11,
    "start_time": "2023-02-10T10:31:35.621Z"
   },
   {
    "duration": 79,
    "start_time": "2023-02-10T10:31:41.528Z"
   },
   {
    "duration": 16,
    "start_time": "2023-02-10T10:31:41.609Z"
   },
   {
    "duration": 30,
    "start_time": "2023-02-10T10:31:41.626Z"
   },
   {
    "duration": 16,
    "start_time": "2023-02-10T10:31:41.658Z"
   },
   {
    "duration": 36,
    "start_time": "2023-02-10T10:31:41.675Z"
   },
   {
    "duration": 4,
    "start_time": "2023-02-10T10:31:41.713Z"
   },
   {
    "duration": 10,
    "start_time": "2023-02-10T10:31:41.718Z"
   },
   {
    "duration": 21,
    "start_time": "2023-02-10T10:31:41.729Z"
   },
   {
    "duration": 12,
    "start_time": "2023-02-10T10:31:41.760Z"
   },
   {
    "duration": 9,
    "start_time": "2023-02-10T10:31:41.774Z"
   },
   {
    "duration": 41,
    "start_time": "2023-02-10T10:31:41.784Z"
   },
   {
    "duration": 10,
    "start_time": "2023-02-10T10:31:41.826Z"
   },
   {
    "duration": 4,
    "start_time": "2023-02-10T10:31:41.837Z"
   },
   {
    "duration": 20,
    "start_time": "2023-02-10T10:31:41.842Z"
   },
   {
    "duration": 23,
    "start_time": "2023-02-10T10:31:41.863Z"
   },
   {
    "duration": 16,
    "start_time": "2023-02-10T10:31:41.888Z"
   },
   {
    "duration": 4,
    "start_time": "2023-02-10T10:31:41.906Z"
   },
   {
    "duration": 23,
    "start_time": "2023-02-10T10:31:41.912Z"
   },
   {
    "duration": 15,
    "start_time": "2023-02-10T10:31:41.936Z"
   },
   {
    "duration": 7,
    "start_time": "2023-02-10T10:31:41.957Z"
   },
   {
    "duration": 10,
    "start_time": "2023-02-10T10:31:41.966Z"
   },
   {
    "duration": 12,
    "start_time": "2023-02-10T10:31:41.978Z"
   },
   {
    "duration": 1271,
    "start_time": "2023-02-10T10:43:42.720Z"
   },
   {
    "duration": 8,
    "start_time": "2023-02-10T10:43:59.161Z"
   },
   {
    "duration": 3,
    "start_time": "2023-02-10T10:45:17.223Z"
   },
   {
    "duration": 3,
    "start_time": "2023-02-10T10:49:00.428Z"
   },
   {
    "duration": 4,
    "start_time": "2023-02-10T10:49:10.468Z"
   },
   {
    "duration": 6,
    "start_time": "2023-02-10T10:49:18.187Z"
   },
   {
    "duration": 16,
    "start_time": "2023-02-10T11:12:44.095Z"
   },
   {
    "duration": 10,
    "start_time": "2023-02-10T11:13:05.283Z"
   },
   {
    "duration": 9,
    "start_time": "2023-02-10T11:51:48.841Z"
   },
   {
    "duration": 9,
    "start_time": "2023-02-10T11:57:17.510Z"
   },
   {
    "duration": 102,
    "start_time": "2023-02-10T11:57:23.436Z"
   },
   {
    "duration": 20,
    "start_time": "2023-02-10T11:57:23.541Z"
   },
   {
    "duration": 30,
    "start_time": "2023-02-10T11:57:23.566Z"
   },
   {
    "duration": 17,
    "start_time": "2023-02-10T11:57:23.599Z"
   },
   {
    "duration": 53,
    "start_time": "2023-02-10T11:57:23.617Z"
   },
   {
    "duration": 3,
    "start_time": "2023-02-10T11:57:23.672Z"
   },
   {
    "duration": 20,
    "start_time": "2023-02-10T11:57:23.677Z"
   },
   {
    "duration": 15,
    "start_time": "2023-02-10T11:57:23.699Z"
   },
   {
    "duration": 7,
    "start_time": "2023-02-10T11:57:23.716Z"
   },
   {
    "duration": 7,
    "start_time": "2023-02-10T11:57:23.725Z"
   },
   {
    "duration": 53,
    "start_time": "2023-02-10T11:57:23.733Z"
   },
   {
    "duration": 10,
    "start_time": "2023-02-10T11:57:23.787Z"
   },
   {
    "duration": 5,
    "start_time": "2023-02-10T11:57:23.799Z"
   },
   {
    "duration": 17,
    "start_time": "2023-02-10T11:57:23.806Z"
   },
   {
    "duration": 40,
    "start_time": "2023-02-10T11:57:23.825Z"
   },
   {
    "duration": 18,
    "start_time": "2023-02-10T11:57:23.867Z"
   },
   {
    "duration": 4,
    "start_time": "2023-02-10T11:57:23.886Z"
   },
   {
    "duration": 25,
    "start_time": "2023-02-10T11:57:23.891Z"
   },
   {
    "duration": 6,
    "start_time": "2023-02-10T11:57:23.917Z"
   },
   {
    "duration": 39,
    "start_time": "2023-02-10T11:57:23.925Z"
   },
   {
    "duration": 18,
    "start_time": "2023-02-10T11:57:23.966Z"
   },
   {
    "duration": 16,
    "start_time": "2023-02-10T11:57:27.041Z"
   },
   {
    "duration": 8,
    "start_time": "2023-02-10T11:58:10.422Z"
   },
   {
    "duration": 11,
    "start_time": "2023-02-10T11:58:20.427Z"
   },
   {
    "duration": 86,
    "start_time": "2023-02-10T11:58:29.668Z"
   },
   {
    "duration": 24,
    "start_time": "2023-02-10T11:58:29.756Z"
   },
   {
    "duration": 24,
    "start_time": "2023-02-10T11:58:29.782Z"
   },
   {
    "duration": 10,
    "start_time": "2023-02-10T11:58:29.808Z"
   },
   {
    "duration": 55,
    "start_time": "2023-02-10T11:58:29.820Z"
   },
   {
    "duration": 3,
    "start_time": "2023-02-10T11:58:29.877Z"
   },
   {
    "duration": 14,
    "start_time": "2023-02-10T11:58:29.881Z"
   },
   {
    "duration": 6,
    "start_time": "2023-02-10T11:58:29.896Z"
   },
   {
    "duration": 11,
    "start_time": "2023-02-10T11:58:29.904Z"
   },
   {
    "duration": 34,
    "start_time": "2023-02-10T11:58:29.918Z"
   },
   {
    "duration": 36,
    "start_time": "2023-02-10T11:58:29.960Z"
   },
   {
    "duration": 9,
    "start_time": "2023-02-10T11:58:29.998Z"
   },
   {
    "duration": 16,
    "start_time": "2023-02-10T11:58:30.009Z"
   },
   {
    "duration": 18,
    "start_time": "2023-02-10T11:58:30.027Z"
   },
   {
    "duration": 37,
    "start_time": "2023-02-10T11:58:30.047Z"
   },
   {
    "duration": 20,
    "start_time": "2023-02-10T11:58:30.086Z"
   },
   {
    "duration": 3,
    "start_time": "2023-02-10T11:58:30.108Z"
   },
   {
    "duration": 16,
    "start_time": "2023-02-10T11:58:30.113Z"
   },
   {
    "duration": 28,
    "start_time": "2023-02-10T11:58:30.130Z"
   },
   {
    "duration": 10,
    "start_time": "2023-02-10T11:58:30.160Z"
   },
   {
    "duration": 9,
    "start_time": "2023-02-10T11:58:33.466Z"
   },
   {
    "duration": 9,
    "start_time": "2023-02-10T11:58:35.978Z"
   },
   {
    "duration": 8,
    "start_time": "2023-02-10T11:59:13.772Z"
   },
   {
    "duration": 8,
    "start_time": "2023-02-10T11:59:31.100Z"
   },
   {
    "duration": 8,
    "start_time": "2023-02-10T11:59:54.989Z"
   },
   {
    "duration": 21,
    "start_time": "2023-02-10T12:04:38.382Z"
   },
   {
    "duration": 23,
    "start_time": "2023-02-10T12:08:59.781Z"
   },
   {
    "duration": 28,
    "start_time": "2023-02-10T12:09:20.845Z"
   },
   {
    "duration": 35,
    "start_time": "2023-02-10T12:10:49.920Z"
   },
   {
    "duration": 14,
    "start_time": "2023-02-10T12:14:46.122Z"
   },
   {
    "duration": 11,
    "start_time": "2023-02-10T12:15:03.578Z"
   },
   {
    "duration": 23,
    "start_time": "2023-02-10T12:16:39.264Z"
   },
   {
    "duration": 22,
    "start_time": "2023-02-10T12:18:55.935Z"
   },
   {
    "duration": 69,
    "start_time": "2023-02-10T12:19:19.234Z"
   },
   {
    "duration": 15,
    "start_time": "2023-02-10T12:19:19.305Z"
   },
   {
    "duration": 18,
    "start_time": "2023-02-10T12:19:19.321Z"
   },
   {
    "duration": 16,
    "start_time": "2023-02-10T12:19:19.341Z"
   },
   {
    "duration": 39,
    "start_time": "2023-02-10T12:19:19.359Z"
   },
   {
    "duration": 4,
    "start_time": "2023-02-10T12:19:19.400Z"
   },
   {
    "duration": 17,
    "start_time": "2023-02-10T12:19:19.406Z"
   },
   {
    "duration": 30,
    "start_time": "2023-02-10T12:19:19.425Z"
   },
   {
    "duration": 8,
    "start_time": "2023-02-10T12:19:19.457Z"
   },
   {
    "duration": 5,
    "start_time": "2023-02-10T12:19:19.468Z"
   },
   {
    "duration": 45,
    "start_time": "2023-02-10T12:19:19.475Z"
   },
   {
    "duration": 31,
    "start_time": "2023-02-10T12:19:19.522Z"
   },
   {
    "duration": 6,
    "start_time": "2023-02-10T12:19:19.554Z"
   },
   {
    "duration": 12,
    "start_time": "2023-02-10T12:19:19.561Z"
   },
   {
    "duration": 23,
    "start_time": "2023-02-10T12:19:19.574Z"
   },
   {
    "duration": 18,
    "start_time": "2023-02-10T12:19:19.599Z"
   },
   {
    "duration": 4,
    "start_time": "2023-02-10T12:19:19.619Z"
   },
   {
    "duration": 32,
    "start_time": "2023-02-10T12:19:19.624Z"
   },
   {
    "duration": 6,
    "start_time": "2023-02-10T12:19:19.657Z"
   },
   {
    "duration": 4,
    "start_time": "2023-02-10T12:19:19.665Z"
   },
   {
    "duration": 13,
    "start_time": "2023-02-10T12:19:19.670Z"
   },
   {
    "duration": 20,
    "start_time": "2023-02-10T12:19:25.816Z"
   },
   {
    "duration": 5,
    "start_time": "2023-02-10T12:20:23.558Z"
   },
   {
    "duration": 8,
    "start_time": "2023-02-10T12:22:28.401Z"
   },
   {
    "duration": 7,
    "start_time": "2023-02-10T12:23:20.392Z"
   },
   {
    "duration": 10,
    "start_time": "2023-02-10T12:24:26.365Z"
   },
   {
    "duration": 15,
    "start_time": "2023-02-10T12:49:51.728Z"
   },
   {
    "duration": 79,
    "start_time": "2023-02-10T12:50:19.205Z"
   },
   {
    "duration": 15,
    "start_time": "2023-02-10T12:50:19.286Z"
   },
   {
    "duration": 17,
    "start_time": "2023-02-10T12:50:19.302Z"
   },
   {
    "duration": 40,
    "start_time": "2023-02-10T12:50:19.321Z"
   },
   {
    "duration": 37,
    "start_time": "2023-02-10T12:50:19.366Z"
   },
   {
    "duration": 4,
    "start_time": "2023-02-10T12:50:19.404Z"
   },
   {
    "duration": 13,
    "start_time": "2023-02-10T12:50:19.410Z"
   },
   {
    "duration": 5,
    "start_time": "2023-02-10T12:50:19.428Z"
   },
   {
    "duration": 34,
    "start_time": "2023-02-10T12:50:19.435Z"
   },
   {
    "duration": 5,
    "start_time": "2023-02-10T12:50:19.472Z"
   },
   {
    "duration": 34,
    "start_time": "2023-02-10T12:50:19.479Z"
   },
   {
    "duration": 11,
    "start_time": "2023-02-10T12:50:19.514Z"
   },
   {
    "duration": 4,
    "start_time": "2023-02-10T12:50:19.527Z"
   },
   {
    "duration": 16,
    "start_time": "2023-02-10T12:50:19.550Z"
   },
   {
    "duration": 28,
    "start_time": "2023-02-10T12:50:19.568Z"
   },
   {
    "duration": 20,
    "start_time": "2023-02-10T12:50:19.598Z"
   },
   {
    "duration": 3,
    "start_time": "2023-02-10T12:50:19.620Z"
   },
   {
    "duration": 40,
    "start_time": "2023-02-10T12:50:19.624Z"
   },
   {
    "duration": 9,
    "start_time": "2023-02-10T12:50:19.666Z"
   },
   {
    "duration": 7,
    "start_time": "2023-02-10T12:50:19.677Z"
   },
   {
    "duration": 18,
    "start_time": "2023-02-10T12:50:19.686Z"
   },
   {
    "duration": 10,
    "start_time": "2023-02-10T12:50:19.706Z"
   },
   {
    "duration": 11,
    "start_time": "2023-02-10T12:50:22.377Z"
   },
   {
    "duration": 10,
    "start_time": "2023-02-10T12:54:41.565Z"
   },
   {
    "duration": 12,
    "start_time": "2023-02-10T14:08:25.532Z"
   },
   {
    "duration": 523,
    "start_time": "2023-02-10T14:17:24.461Z"
   },
   {
    "duration": 29,
    "start_time": "2023-02-10T14:17:24.986Z"
   },
   {
    "duration": 17,
    "start_time": "2023-02-10T14:17:25.017Z"
   },
   {
    "duration": 10,
    "start_time": "2023-02-10T14:17:25.037Z"
   },
   {
    "duration": 64,
    "start_time": "2023-02-10T14:17:25.048Z"
   },
   {
    "duration": 3,
    "start_time": "2023-02-10T14:17:25.113Z"
   },
   {
    "duration": 18,
    "start_time": "2023-02-10T14:17:25.118Z"
   },
   {
    "duration": 17,
    "start_time": "2023-02-10T14:17:25.138Z"
   },
   {
    "duration": 9,
    "start_time": "2023-02-10T14:17:25.157Z"
   },
   {
    "duration": 8,
    "start_time": "2023-02-10T14:17:25.168Z"
   },
   {
    "duration": 44,
    "start_time": "2023-02-10T14:17:25.178Z"
   },
   {
    "duration": 10,
    "start_time": "2023-02-10T14:17:25.224Z"
   },
   {
    "duration": 5,
    "start_time": "2023-02-10T14:17:25.236Z"
   },
   {
    "duration": 12,
    "start_time": "2023-02-10T14:17:25.242Z"
   },
   {
    "duration": 23,
    "start_time": "2023-02-10T14:17:25.255Z"
   },
   {
    "duration": 19,
    "start_time": "2023-02-10T14:17:25.299Z"
   },
   {
    "duration": 3,
    "start_time": "2023-02-10T14:17:25.320Z"
   },
   {
    "duration": 14,
    "start_time": "2023-02-10T14:17:25.324Z"
   },
   {
    "duration": 5,
    "start_time": "2023-02-10T14:17:25.339Z"
   },
   {
    "duration": 4,
    "start_time": "2023-02-10T14:17:25.345Z"
   },
   {
    "duration": 13,
    "start_time": "2023-02-10T14:17:25.351Z"
   },
   {
    "duration": 30,
    "start_time": "2023-02-10T14:17:25.365Z"
   },
   {
    "duration": 14,
    "start_time": "2023-02-10T14:17:25.398Z"
   },
   {
    "duration": 8,
    "start_time": "2023-02-10T14:25:22.332Z"
   },
   {
    "duration": 41,
    "start_time": "2023-02-10T14:31:07.926Z"
   },
   {
    "duration": 9,
    "start_time": "2023-02-10T14:32:17.162Z"
   },
   {
    "duration": 9,
    "start_time": "2023-02-10T14:33:08.619Z"
   },
   {
    "duration": 12,
    "start_time": "2023-02-10T14:35:56.552Z"
   },
   {
    "duration": 73,
    "start_time": "2023-02-10T14:37:17.221Z"
   },
   {
    "duration": 23,
    "start_time": "2023-02-10T14:37:36.044Z"
   },
   {
    "duration": 74,
    "start_time": "2023-02-10T14:37:40.787Z"
   },
   {
    "duration": 14,
    "start_time": "2023-02-10T14:37:40.863Z"
   },
   {
    "duration": 21,
    "start_time": "2023-02-10T14:37:40.879Z"
   },
   {
    "duration": 26,
    "start_time": "2023-02-10T14:37:40.903Z"
   },
   {
    "duration": 35,
    "start_time": "2023-02-10T14:37:40.930Z"
   },
   {
    "duration": 3,
    "start_time": "2023-02-10T14:37:40.966Z"
   },
   {
    "duration": 19,
    "start_time": "2023-02-10T14:37:40.970Z"
   },
   {
    "duration": 23,
    "start_time": "2023-02-10T14:37:40.993Z"
   },
   {
    "duration": 9,
    "start_time": "2023-02-10T14:37:41.018Z"
   },
   {
    "duration": 5,
    "start_time": "2023-02-10T14:37:41.030Z"
   },
   {
    "duration": 35,
    "start_time": "2023-02-10T14:37:41.036Z"
   },
   {
    "duration": 9,
    "start_time": "2023-02-10T14:37:41.073Z"
   },
   {
    "duration": 5,
    "start_time": "2023-02-10T14:37:41.093Z"
   },
   {
    "duration": 24,
    "start_time": "2023-02-10T14:37:41.102Z"
   },
   {
    "duration": 27,
    "start_time": "2023-02-10T14:37:41.128Z"
   },
   {
    "duration": 17,
    "start_time": "2023-02-10T14:37:41.159Z"
   },
   {
    "duration": 3,
    "start_time": "2023-02-10T14:37:41.178Z"
   },
   {
    "duration": 24,
    "start_time": "2023-02-10T14:37:41.182Z"
   },
   {
    "duration": 13,
    "start_time": "2023-02-10T14:37:41.208Z"
   },
   {
    "duration": 4,
    "start_time": "2023-02-10T14:37:41.223Z"
   },
   {
    "duration": 22,
    "start_time": "2023-02-10T14:37:41.228Z"
   },
   {
    "duration": 12,
    "start_time": "2023-02-10T14:37:41.252Z"
   },
   {
    "duration": 15,
    "start_time": "2023-02-10T14:37:41.266Z"
   },
   {
    "duration": 15,
    "start_time": "2023-02-10T14:37:41.283Z"
   },
   {
    "duration": 36,
    "start_time": "2023-02-10T14:37:46.328Z"
   },
   {
    "duration": 15,
    "start_time": "2023-02-10T14:38:17.206Z"
   },
   {
    "duration": 7,
    "start_time": "2023-02-10T14:38:34.608Z"
   },
   {
    "duration": 15,
    "start_time": "2023-02-10T14:40:20.564Z"
   },
   {
    "duration": 14,
    "start_time": "2023-02-10T14:40:33.461Z"
   },
   {
    "duration": 11,
    "start_time": "2023-02-10T14:41:17.614Z"
   },
   {
    "duration": 10,
    "start_time": "2023-02-10T14:41:27.661Z"
   },
   {
    "duration": 10,
    "start_time": "2023-02-10T14:45:56.300Z"
   },
   {
    "duration": 17,
    "start_time": "2023-02-10T20:24:41.597Z"
   },
   {
    "duration": 9,
    "start_time": "2023-02-10T20:28:03.365Z"
   },
   {
    "duration": 9,
    "start_time": "2023-02-10T20:28:43.689Z"
   },
   {
    "duration": 13,
    "start_time": "2023-02-10T20:29:24.676Z"
   },
   {
    "duration": 9,
    "start_time": "2023-02-10T20:32:54.747Z"
   },
   {
    "duration": 10,
    "start_time": "2023-02-10T20:34:30.752Z"
   },
   {
    "duration": 535,
    "start_time": "2023-02-11T14:36:34.418Z"
   },
   {
    "duration": 22,
    "start_time": "2023-02-11T14:36:34.955Z"
   },
   {
    "duration": 18,
    "start_time": "2023-02-11T14:36:34.978Z"
   },
   {
    "duration": 36,
    "start_time": "2023-02-11T14:36:34.999Z"
   },
   {
    "duration": 47,
    "start_time": "2023-02-11T14:36:35.036Z"
   },
   {
    "duration": 6,
    "start_time": "2023-02-11T14:36:35.085Z"
   },
   {
    "duration": 11,
    "start_time": "2023-02-11T14:36:35.093Z"
   },
   {
    "duration": 29,
    "start_time": "2023-02-11T14:36:35.106Z"
   },
   {
    "duration": 10,
    "start_time": "2023-02-11T14:36:35.138Z"
   },
   {
    "duration": 4,
    "start_time": "2023-02-11T14:36:35.152Z"
   },
   {
    "duration": 36,
    "start_time": "2023-02-11T14:36:35.158Z"
   },
   {
    "duration": 30,
    "start_time": "2023-02-11T14:36:35.196Z"
   },
   {
    "duration": 6,
    "start_time": "2023-02-11T14:36:35.228Z"
   },
   {
    "duration": 14,
    "start_time": "2023-02-11T14:36:35.236Z"
   },
   {
    "duration": 22,
    "start_time": "2023-02-11T14:36:35.252Z"
   },
   {
    "duration": 18,
    "start_time": "2023-02-11T14:36:35.276Z"
   },
   {
    "duration": 29,
    "start_time": "2023-02-11T14:36:35.295Z"
   },
   {
    "duration": 28,
    "start_time": "2023-02-11T14:36:35.332Z"
   },
   {
    "duration": 9,
    "start_time": "2023-02-11T14:36:35.361Z"
   },
   {
    "duration": 3,
    "start_time": "2023-02-11T14:36:35.372Z"
   },
   {
    "duration": 10,
    "start_time": "2023-02-11T14:36:35.377Z"
   },
   {
    "duration": 9,
    "start_time": "2023-02-11T14:36:35.389Z"
   },
   {
    "duration": 11,
    "start_time": "2023-02-11T14:36:35.399Z"
   },
   {
    "duration": 21,
    "start_time": "2023-02-11T14:36:35.411Z"
   },
   {
    "duration": 11,
    "start_time": "2023-02-11T14:36:35.435Z"
   },
   {
    "duration": 10,
    "start_time": "2023-02-11T14:36:35.447Z"
   },
   {
    "duration": 461,
    "start_time": "2023-02-11T14:54:10.146Z"
   },
   {
    "duration": 25,
    "start_time": "2023-02-11T14:54:10.609Z"
   },
   {
    "duration": 15,
    "start_time": "2023-02-11T14:54:10.635Z"
   },
   {
    "duration": 10,
    "start_time": "2023-02-11T14:54:10.652Z"
   },
   {
    "duration": 34,
    "start_time": "2023-02-11T14:54:10.663Z"
   },
   {
    "duration": 3,
    "start_time": "2023-02-11T14:54:10.699Z"
   },
   {
    "duration": 12,
    "start_time": "2023-02-11T14:54:10.721Z"
   },
   {
    "duration": 7,
    "start_time": "2023-02-11T14:54:10.735Z"
   },
   {
    "duration": 10,
    "start_time": "2023-02-11T14:54:10.744Z"
   },
   {
    "duration": 4,
    "start_time": "2023-02-11T14:54:10.756Z"
   },
   {
    "duration": 36,
    "start_time": "2023-02-11T14:54:10.762Z"
   },
   {
    "duration": 15,
    "start_time": "2023-02-11T14:54:10.826Z"
   },
   {
    "duration": 10,
    "start_time": "2023-02-11T14:54:10.843Z"
   },
   {
    "duration": 14,
    "start_time": "2023-02-11T14:54:10.854Z"
   },
   {
    "duration": 28,
    "start_time": "2023-02-11T14:54:10.870Z"
   },
   {
    "duration": 34,
    "start_time": "2023-02-11T14:54:10.900Z"
   },
   {
    "duration": 4,
    "start_time": "2023-02-11T14:54:10.936Z"
   },
   {
    "duration": 12,
    "start_time": "2023-02-11T14:54:10.941Z"
   },
   {
    "duration": 6,
    "start_time": "2023-02-11T14:54:10.955Z"
   },
   {
    "duration": 4,
    "start_time": "2023-02-11T14:54:10.962Z"
   },
   {
    "duration": 12,
    "start_time": "2023-02-11T14:54:10.967Z"
   },
   {
    "duration": 8,
    "start_time": "2023-02-11T14:54:10.980Z"
   },
   {
    "duration": 43,
    "start_time": "2023-02-11T14:54:10.989Z"
   },
   {
    "duration": 12,
    "start_time": "2023-02-11T14:54:11.033Z"
   },
   {
    "duration": 11,
    "start_time": "2023-02-11T14:54:11.047Z"
   },
   {
    "duration": 8,
    "start_time": "2023-02-11T14:54:11.060Z"
   },
   {
    "duration": 523,
    "start_time": "2023-02-11T14:55:41.510Z"
   },
   {
    "duration": 28,
    "start_time": "2023-02-11T14:55:42.036Z"
   },
   {
    "duration": 15,
    "start_time": "2023-02-11T14:55:42.065Z"
   },
   {
    "duration": 10,
    "start_time": "2023-02-11T14:55:42.082Z"
   },
   {
    "duration": 44,
    "start_time": "2023-02-11T14:55:42.121Z"
   },
   {
    "duration": 3,
    "start_time": "2023-02-11T14:55:42.167Z"
   },
   {
    "duration": 11,
    "start_time": "2023-02-11T14:55:42.172Z"
   },
   {
    "duration": 5,
    "start_time": "2023-02-11T14:55:42.184Z"
   },
   {
    "duration": 33,
    "start_time": "2023-02-11T14:55:42.190Z"
   },
   {
    "duration": 8,
    "start_time": "2023-02-11T14:55:42.235Z"
   },
   {
    "duration": 40,
    "start_time": "2023-02-11T14:55:42.246Z"
   },
   {
    "duration": 11,
    "start_time": "2023-02-11T14:55:42.288Z"
   },
   {
    "duration": 4,
    "start_time": "2023-02-11T14:55:42.301Z"
   },
   {
    "duration": 35,
    "start_time": "2023-02-11T14:55:42.308Z"
   },
   {
    "duration": 24,
    "start_time": "2023-02-11T14:55:42.345Z"
   },
   {
    "duration": 19,
    "start_time": "2023-02-11T14:55:42.370Z"
   },
   {
    "duration": 5,
    "start_time": "2023-02-11T14:55:42.390Z"
   },
   {
    "duration": 17,
    "start_time": "2023-02-11T14:55:42.421Z"
   },
   {
    "duration": 7,
    "start_time": "2023-02-11T14:55:42.440Z"
   },
   {
    "duration": 4,
    "start_time": "2023-02-11T14:55:42.449Z"
   },
   {
    "duration": 13,
    "start_time": "2023-02-11T14:55:42.454Z"
   },
   {
    "duration": 8,
    "start_time": "2023-02-11T14:55:42.469Z"
   },
   {
    "duration": 49,
    "start_time": "2023-02-11T14:55:42.478Z"
   },
   {
    "duration": 11,
    "start_time": "2023-02-11T14:55:42.535Z"
   },
   {
    "duration": 10,
    "start_time": "2023-02-11T14:55:42.547Z"
   },
   {
    "duration": 8,
    "start_time": "2023-02-11T14:55:42.559Z"
   },
   {
    "duration": 573,
    "start_time": "2023-02-11T18:22:39.560Z"
   },
   {
    "duration": 23,
    "start_time": "2023-02-11T18:22:40.135Z"
   },
   {
    "duration": 15,
    "start_time": "2023-02-11T18:22:40.159Z"
   },
   {
    "duration": 18,
    "start_time": "2023-02-11T18:22:40.176Z"
   },
   {
    "duration": 46,
    "start_time": "2023-02-11T18:22:40.196Z"
   },
   {
    "duration": 4,
    "start_time": "2023-02-11T18:22:40.244Z"
   },
   {
    "duration": 16,
    "start_time": "2023-02-11T18:22:40.249Z"
   },
   {
    "duration": 12,
    "start_time": "2023-02-11T18:22:40.267Z"
   },
   {
    "duration": 9,
    "start_time": "2023-02-11T18:22:40.293Z"
   },
   {
    "duration": 5,
    "start_time": "2023-02-11T18:22:40.305Z"
   },
   {
    "duration": 54,
    "start_time": "2023-02-11T18:22:40.311Z"
   },
   {
    "duration": 34,
    "start_time": "2023-02-11T18:22:40.367Z"
   },
   {
    "duration": 7,
    "start_time": "2023-02-11T18:22:40.402Z"
   },
   {
    "duration": 47,
    "start_time": "2023-02-11T18:22:40.411Z"
   },
   {
    "duration": 31,
    "start_time": "2023-02-11T18:22:40.460Z"
   },
   {
    "duration": 17,
    "start_time": "2023-02-11T18:22:40.493Z"
   },
   {
    "duration": 3,
    "start_time": "2023-02-11T18:22:40.512Z"
   },
   {
    "duration": 19,
    "start_time": "2023-02-11T18:22:40.517Z"
   },
   {
    "duration": 7,
    "start_time": "2023-02-11T18:22:40.539Z"
   },
   {
    "duration": 4,
    "start_time": "2023-02-11T18:22:40.548Z"
   },
   {
    "duration": 13,
    "start_time": "2023-02-11T18:22:40.554Z"
   },
   {
    "duration": 9,
    "start_time": "2023-02-11T18:26:09.683Z"
   },
   {
    "duration": 64,
    "start_time": "2023-02-11T18:28:08.156Z"
   },
   {
    "duration": 8,
    "start_time": "2023-02-11T18:28:46.010Z"
   },
   {
    "duration": 11,
    "start_time": "2023-02-11T18:33:28.610Z"
   },
   {
    "duration": 15,
    "start_time": "2023-02-11T19:01:25.161Z"
   },
   {
    "duration": 8,
    "start_time": "2023-02-11T19:06:23.320Z"
   },
   {
    "duration": 69,
    "start_time": "2023-02-11T19:06:28.554Z"
   },
   {
    "duration": 14,
    "start_time": "2023-02-11T19:06:28.625Z"
   },
   {
    "duration": 21,
    "start_time": "2023-02-11T19:06:28.641Z"
   },
   {
    "duration": 31,
    "start_time": "2023-02-11T19:06:28.664Z"
   },
   {
    "duration": 40,
    "start_time": "2023-02-11T19:06:28.697Z"
   },
   {
    "duration": 4,
    "start_time": "2023-02-11T19:06:28.739Z"
   },
   {
    "duration": 12,
    "start_time": "2023-02-11T19:06:28.744Z"
   },
   {
    "duration": 7,
    "start_time": "2023-02-11T19:06:28.757Z"
   },
   {
    "duration": 31,
    "start_time": "2023-02-11T19:06:28.765Z"
   },
   {
    "duration": 5,
    "start_time": "2023-02-11T19:06:28.798Z"
   },
   {
    "duration": 54,
    "start_time": "2023-02-11T19:06:28.805Z"
   },
   {
    "duration": 13,
    "start_time": "2023-02-11T19:06:28.861Z"
   },
   {
    "duration": 19,
    "start_time": "2023-02-11T19:06:28.876Z"
   },
   {
    "duration": 18,
    "start_time": "2023-02-11T19:06:28.897Z"
   },
   {
    "duration": 17,
    "start_time": "2023-02-11T19:06:28.917Z"
   },
   {
    "duration": 17,
    "start_time": "2023-02-11T19:06:28.935Z"
   },
   {
    "duration": 3,
    "start_time": "2023-02-11T19:06:28.954Z"
   },
   {
    "duration": 37,
    "start_time": "2023-02-11T19:06:28.958Z"
   },
   {
    "duration": 7,
    "start_time": "2023-02-11T19:06:28.997Z"
   },
   {
    "duration": 5,
    "start_time": "2023-02-11T19:06:29.005Z"
   },
   {
    "duration": 13,
    "start_time": "2023-02-11T19:06:29.011Z"
   },
   {
    "duration": 8,
    "start_time": "2023-02-11T19:06:33.080Z"
   },
   {
    "duration": 16,
    "start_time": "2023-02-11T19:07:07.907Z"
   },
   {
    "duration": 21,
    "start_time": "2023-02-11T19:09:03.658Z"
   },
   {
    "duration": 10,
    "start_time": "2023-02-11T19:11:15.117Z"
   },
   {
    "duration": 15,
    "start_time": "2023-02-11T19:12:14.087Z"
   },
   {
    "duration": 64,
    "start_time": "2023-02-11T19:14:08.585Z"
   },
   {
    "duration": 14,
    "start_time": "2023-02-11T19:14:08.651Z"
   },
   {
    "duration": 22,
    "start_time": "2023-02-11T19:14:08.666Z"
   },
   {
    "duration": 18,
    "start_time": "2023-02-11T19:14:08.691Z"
   },
   {
    "duration": 44,
    "start_time": "2023-02-11T19:14:08.710Z"
   },
   {
    "duration": 3,
    "start_time": "2023-02-11T19:14:08.756Z"
   },
   {
    "duration": 12,
    "start_time": "2023-02-11T19:14:08.760Z"
   },
   {
    "duration": 12,
    "start_time": "2023-02-11T19:14:08.774Z"
   },
   {
    "duration": 14,
    "start_time": "2023-02-11T19:14:08.788Z"
   },
   {
    "duration": 4,
    "start_time": "2023-02-11T19:14:08.805Z"
   },
   {
    "duration": 47,
    "start_time": "2023-02-11T19:14:08.811Z"
   },
   {
    "duration": 9,
    "start_time": "2023-02-11T19:14:08.860Z"
   },
   {
    "duration": 11,
    "start_time": "2023-02-11T19:14:08.870Z"
   },
   {
    "duration": 20,
    "start_time": "2023-02-11T19:14:08.882Z"
   },
   {
    "duration": 28,
    "start_time": "2023-02-11T19:14:08.903Z"
   },
   {
    "duration": 19,
    "start_time": "2023-02-11T19:14:08.933Z"
   },
   {
    "duration": 4,
    "start_time": "2023-02-11T19:14:08.953Z"
   },
   {
    "duration": 22,
    "start_time": "2023-02-11T19:14:08.959Z"
   },
   {
    "duration": 21,
    "start_time": "2023-02-11T19:14:08.982Z"
   },
   {
    "duration": 15,
    "start_time": "2023-02-11T19:14:09.005Z"
   },
   {
    "duration": 33,
    "start_time": "2023-02-11T19:14:09.021Z"
   },
   {
    "duration": 13,
    "start_time": "2023-02-11T19:14:09.056Z"
   },
   {
    "duration": 11,
    "start_time": "2023-02-11T19:14:19.822Z"
   },
   {
    "duration": 6,
    "start_time": "2023-02-11T20:10:34.444Z"
   },
   {
    "duration": 69,
    "start_time": "2023-02-11T20:10:38.953Z"
   },
   {
    "duration": 15,
    "start_time": "2023-02-11T20:10:39.024Z"
   },
   {
    "duration": 25,
    "start_time": "2023-02-11T20:10:39.042Z"
   },
   {
    "duration": 28,
    "start_time": "2023-02-11T20:10:39.070Z"
   },
   {
    "duration": 56,
    "start_time": "2023-02-11T20:10:39.100Z"
   },
   {
    "duration": 3,
    "start_time": "2023-02-11T20:10:39.158Z"
   },
   {
    "duration": 31,
    "start_time": "2023-02-11T20:10:39.163Z"
   },
   {
    "duration": 5,
    "start_time": "2023-02-11T20:10:39.196Z"
   },
   {
    "duration": 7,
    "start_time": "2023-02-11T20:10:39.202Z"
   },
   {
    "duration": 4,
    "start_time": "2023-02-11T20:10:39.212Z"
   },
   {
    "duration": 35,
    "start_time": "2023-02-11T20:10:39.217Z"
   },
   {
    "duration": 10,
    "start_time": "2023-02-11T20:10:39.253Z"
   },
   {
    "duration": 31,
    "start_time": "2023-02-11T20:10:39.265Z"
   },
   {
    "duration": 15,
    "start_time": "2023-02-11T20:10:39.298Z"
   },
   {
    "duration": 34,
    "start_time": "2023-02-11T20:10:39.315Z"
   },
   {
    "duration": 22,
    "start_time": "2023-02-11T20:10:39.351Z"
   },
   {
    "duration": 3,
    "start_time": "2023-02-11T20:10:39.375Z"
   },
   {
    "duration": 24,
    "start_time": "2023-02-11T20:10:39.380Z"
   },
   {
    "duration": 7,
    "start_time": "2023-02-11T20:10:39.406Z"
   },
   {
    "duration": 4,
    "start_time": "2023-02-11T20:10:39.415Z"
   },
   {
    "duration": 9,
    "start_time": "2023-02-11T20:10:39.421Z"
   },
   {
    "duration": 6,
    "start_time": "2023-02-11T20:10:44.742Z"
   },
   {
    "duration": 8,
    "start_time": "2023-02-11T20:11:00.870Z"
   },
   {
    "duration": 10,
    "start_time": "2023-02-11T20:12:05.617Z"
   },
   {
    "duration": 11,
    "start_time": "2023-02-11T20:13:03.714Z"
   },
   {
    "duration": 9,
    "start_time": "2023-02-11T20:13:14.313Z"
   },
   {
    "duration": 10,
    "start_time": "2023-02-11T20:13:22.338Z"
   },
   {
    "duration": 22,
    "start_time": "2023-02-11T20:21:52.026Z"
   },
   {
    "duration": 43,
    "start_time": "2023-02-11T20:24:56.367Z"
   },
   {
    "duration": 150,
    "start_time": "2023-02-11T20:25:05.838Z"
   },
   {
    "duration": 13,
    "start_time": "2023-02-11T20:25:38.210Z"
   },
   {
    "duration": 17,
    "start_time": "2023-02-11T20:26:07.016Z"
   },
   {
    "duration": 11,
    "start_time": "2023-02-11T20:26:15.811Z"
   },
   {
    "duration": 36,
    "start_time": "2023-02-11T20:41:29.169Z"
   },
   {
    "duration": 52,
    "start_time": "2023-02-11T20:42:51.063Z"
   },
   {
    "duration": 44,
    "start_time": "2023-02-11T20:44:20.372Z"
   },
   {
    "duration": 45,
    "start_time": "2023-02-11T20:44:40.981Z"
   },
   {
    "duration": 39,
    "start_time": "2023-02-11T20:45:16.717Z"
   },
   {
    "duration": 45,
    "start_time": "2023-02-11T20:47:40.017Z"
   },
   {
    "duration": 72,
    "start_time": "2023-02-11T20:52:48.275Z"
   },
   {
    "duration": 52,
    "start_time": "2023-02-12T11:03:39.776Z"
   },
   {
    "duration": 9,
    "start_time": "2023-02-12T11:04:09.561Z"
   },
   {
    "duration": 512,
    "start_time": "2023-02-12T11:04:23.137Z"
   },
   {
    "duration": 25,
    "start_time": "2023-02-12T11:04:23.651Z"
   },
   {
    "duration": 16,
    "start_time": "2023-02-12T11:04:23.678Z"
   },
   {
    "duration": 11,
    "start_time": "2023-02-12T11:04:23.695Z"
   },
   {
    "duration": 34,
    "start_time": "2023-02-12T11:04:23.708Z"
   },
   {
    "duration": 3,
    "start_time": "2023-02-12T11:04:23.744Z"
   },
   {
    "duration": 12,
    "start_time": "2023-02-12T11:04:23.748Z"
   },
   {
    "duration": 4,
    "start_time": "2023-02-12T11:04:23.762Z"
   },
   {
    "duration": 43,
    "start_time": "2023-02-12T11:04:23.768Z"
   },
   {
    "duration": 14,
    "start_time": "2023-02-12T11:04:23.814Z"
   },
   {
    "duration": 42,
    "start_time": "2023-02-12T11:04:23.830Z"
   },
   {
    "duration": 9,
    "start_time": "2023-02-12T11:04:23.874Z"
   },
   {
    "duration": 19,
    "start_time": "2023-02-12T11:04:23.885Z"
   },
   {
    "duration": 21,
    "start_time": "2023-02-12T11:04:23.906Z"
   },
   {
    "duration": 22,
    "start_time": "2023-02-12T11:04:23.929Z"
   },
   {
    "duration": 17,
    "start_time": "2023-02-12T11:04:23.952Z"
   },
   {
    "duration": 4,
    "start_time": "2023-02-12T11:04:23.971Z"
   },
   {
    "duration": 35,
    "start_time": "2023-02-12T11:04:23.976Z"
   },
   {
    "duration": 9,
    "start_time": "2023-02-12T11:04:24.013Z"
   },
   {
    "duration": 4,
    "start_time": "2023-02-12T11:04:24.024Z"
   },
   {
    "duration": 15,
    "start_time": "2023-02-12T11:04:24.029Z"
   },
   {
    "duration": 14,
    "start_time": "2023-02-12T11:04:24.045Z"
   },
   {
    "duration": 12,
    "start_time": "2023-02-12T11:04:27.407Z"
   },
   {
    "duration": 32,
    "start_time": "2023-02-12T11:04:31.328Z"
   },
   {
    "duration": 12,
    "start_time": "2023-02-12T11:04:52.801Z"
   },
   {
    "duration": 13,
    "start_time": "2023-02-12T11:05:01.473Z"
   },
   {
    "duration": 567,
    "start_time": "2023-02-12T14:23:42.297Z"
   },
   {
    "duration": 25,
    "start_time": "2023-02-12T14:23:42.867Z"
   },
   {
    "duration": 39,
    "start_time": "2023-02-12T14:23:42.938Z"
   },
   {
    "duration": 33,
    "start_time": "2023-02-12T14:23:42.979Z"
   },
   {
    "duration": 47,
    "start_time": "2023-02-12T14:23:43.014Z"
   },
   {
    "duration": 4,
    "start_time": "2023-02-12T14:23:43.063Z"
   },
   {
    "duration": 30,
    "start_time": "2023-02-12T14:23:43.069Z"
   },
   {
    "duration": 20,
    "start_time": "2023-02-12T14:23:43.100Z"
   },
   {
    "duration": 22,
    "start_time": "2023-02-12T14:23:43.122Z"
   },
   {
    "duration": 47,
    "start_time": "2023-02-12T14:23:43.147Z"
   },
   {
    "duration": 52,
    "start_time": "2023-02-12T14:23:43.197Z"
   },
   {
    "duration": 11,
    "start_time": "2023-02-12T14:23:43.251Z"
   },
   {
    "duration": 45,
    "start_time": "2023-02-12T14:23:43.264Z"
   },
   {
    "duration": 47,
    "start_time": "2023-02-12T14:23:43.314Z"
   },
   {
    "duration": 43,
    "start_time": "2023-02-12T14:23:43.363Z"
   },
   {
    "duration": 47,
    "start_time": "2023-02-12T14:23:43.408Z"
   },
   {
    "duration": 5,
    "start_time": "2023-02-12T14:23:43.457Z"
   },
   {
    "duration": 33,
    "start_time": "2023-02-12T14:23:43.464Z"
   },
   {
    "duration": 45,
    "start_time": "2023-02-12T14:23:43.499Z"
   },
   {
    "duration": 10,
    "start_time": "2023-02-12T14:23:43.546Z"
   },
   {
    "duration": 43,
    "start_time": "2023-02-12T14:23:43.558Z"
   },
   {
    "duration": 35,
    "start_time": "2023-02-12T14:23:43.603Z"
   },
   {
    "duration": 31,
    "start_time": "2023-02-12T14:23:43.640Z"
   },
   {
    "duration": 65,
    "start_time": "2023-02-12T14:23:43.674Z"
   },
   {
    "duration": 41,
    "start_time": "2023-02-12T14:23:43.741Z"
   },
   {
    "duration": 39,
    "start_time": "2023-02-12T14:23:43.784Z"
   }
  ],
  "colab": {
   "provenance": []
  },
  "kernelspec": {
   "display_name": "Python 3",
   "language": "python",
   "name": "python3"
  },
  "language_info": {
   "codemirror_mode": {
    "name": "ipython",
    "version": 3
   },
   "file_extension": ".py",
   "mimetype": "text/x-python",
   "name": "python",
   "nbconvert_exporter": "python",
   "pygments_lexer": "ipython3",
   "version": "3.7.4"
  },
  "toc": {
   "base_numbering": 1,
   "nav_menu": {},
   "number_sections": true,
   "sideBar": true,
   "skip_h1_title": true,
   "title_cell": "Table of Contents",
   "title_sidebar": "Contents",
   "toc_cell": false,
   "toc_position": {},
   "toc_section_display": true,
   "toc_window_display": false
  }
 },
 "nbformat": 4,
 "nbformat_minor": 5
}
